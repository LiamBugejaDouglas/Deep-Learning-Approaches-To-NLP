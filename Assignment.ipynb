{
 "cells": [
  {
   "cell_type": "code",
   "execution_count": 2,
   "id": "9c304f50",
   "metadata": {},
   "outputs": [],
   "source": [
    "# Suggested imports. Do not use import any modules that are not in the requirements.txt file on the VLE.\n",
    "\n",
    "%matplotlib inline\n",
    "\n",
    "import math\n",
    "import numpy as np\n",
    "import pandas as pd\n",
    "import torch\n",
    "import torch.nn as nn\n",
    "from torch.utils.data import DataLoader, TensorDataset\n",
    "import collections\n",
    "import random\n",
    "import matplotlib.pyplot as plt\n",
    "import sklearn.model_selection\n",
    "import sklearn.metrics\n",
    "import sklearn.preprocessing\n",
    "from sklearn.metrics import f1_score\n",
    "from sklearn.metrics import confusion_matrix\n",
    "\n",
    "device = 'cuda:0' if torch.cuda.is_available() else 'cpu'"
   ]
  },
  {
   "cell_type": "markdown",
   "id": "fc98e8ff",
   "metadata": {},
   "source": [
    "# Movie titles assignment\n",
    "\n",
    "Table of contents:\n",
    "\n",
    "* [Data filtering and splitting (10%)](#Data-filtering-and-splitting-(10%))\n",
    "* [Title classification (25%)](#Title-classification-(25%))\n",
    "* [Title generation (25%)](#Title-generation-(25%))\n",
    "* [Language models as classifiers (30%)](#Language-models-as-classifiers-(30%))\n",
    "* [Conclusion (10%)](#Conclusion-(10%))\n",
    "\n",
    "Information:\n",
    "\n",
    "This assignment is 100% of your assessment.\n",
    "You are to follow the instructions below and fill each cell as instructed.\n",
    "Once ready, submit this notebook on VLE with all the outputs included (run all your code and don't clear any output cells).\n",
    "Do not submit anything else apart from the notebook and do not use any extra data apart from what is requested."
   ]
  },
  {
   "cell_type": "markdown",
   "id": "98ab5373",
   "metadata": {},
   "source": [
    "## Introduction\n",
    "\n",
    "A big shot Hollywood producer is looking for a way to automatically generate new movie titles for future movies and you have been employed to do this (in exchange for millions of dollars!).\n",
    "A data set of movie details has already been collected from IMDb for you and your task is to create the model and the algorithms necessary to use it."
   ]
  },
  {
   "cell_type": "markdown",
   "id": "80bb2f45",
   "metadata": {},
   "source": [
    "## Data filtering and splitting (10%)\n",
    "\n",
    "Start by downloading the CSV file `filmtv_movies - ENG.csv` from [this kaggle data set](https://www.kaggle.com/datasets/stefanoleone992/filmtv-movies-dataset).\n",
    "\n",
    "The CSV file needs to be filtered as the producer is only interested in certain types of movie titles.\n",
    "Load the file and filter it so that only movies with the following criteria are kept:\n",
    "\n",
    "* The country needs to be `United States` (and no other country should be mentioned).\n",
    "* The genre should be `Action`, `Horror`, `Fantasy`, `Western`, and `Adventure`.\n",
    "* The title should not have more than 20 characters."
   ]
  },
  {
   "cell_type": "markdown",
   "id": "e437f968",
   "metadata": {},
   "source": [
    "##### Save movie csv file"
   ]
  },
  {
   "cell_type": "code",
   "execution_count": 3,
   "id": "1c2a2e96",
   "metadata": {},
   "outputs": [
    {
     "name": "stdout",
     "output_type": "stream",
     "text": [
      "Current size:  40046\n"
     ]
    }
   ],
   "source": [
    "csv = pd.read_csv('filmtv_movies - ENG.csv')\n",
    "print(\"Current size: \" , len(csv.index))"
   ]
  },
  {
   "cell_type": "markdown",
   "id": "c5eebb9e",
   "metadata": {},
   "source": [
    "##### Country filter"
   ]
  },
  {
   "cell_type": "code",
   "execution_count": 4,
   "id": "2a3b9dc5",
   "metadata": {},
   "outputs": [
    {
     "name": "stdout",
     "output_type": "stream",
     "text": [
      "Current size:  16076\n"
     ]
    }
   ],
   "source": [
    "csv = csv[csv['country'] == 'United States']\n",
    "print(\"Current size: \" , len(csv.index))"
   ]
  },
  {
   "cell_type": "markdown",
   "id": "b1c0839a",
   "metadata": {},
   "source": [
    "###### Genre filter"
   ]
  },
  {
   "cell_type": "code",
   "execution_count": 5,
   "id": "de36561a",
   "metadata": {},
   "outputs": [
    {
     "name": "stdout",
     "output_type": "stream",
     "text": [
      "Current size:  4483\n"
     ]
    }
   ],
   "source": [
    "genre = [\"Action\", \"Horror\", \"Fantasy\", \"Western\", \"Adventure\"]\n",
    "csv = csv[csv.genre.isin(genre)]\n",
    "print(\"Current size: \" , len(csv.index))"
   ]
  },
  {
   "cell_type": "markdown",
   "id": "89b0b03c",
   "metadata": {},
   "source": [
    "##### Character filter "
   ]
  },
  {
   "cell_type": "code",
   "execution_count": 6,
   "id": "901b664b",
   "metadata": {},
   "outputs": [
    {
     "name": "stdout",
     "output_type": "stream",
     "text": [
      "Final size:  3420\n"
     ]
    }
   ],
   "source": [
    "#Character size filter\n",
    "csv = csv[csv['title'].str.len() <= 20]\n",
    "#print(\"Current size: \" , len(csv.index))\n",
    "\n",
    "#Lowercase and fill titles\n",
    "csv['title'] = csv['title'].apply(str.lower)\n",
    "csv['title'] = csv['title'].str.ljust(20,\"+\")\n",
    "print(\"Final size: \" , len(csv.index))"
   ]
  },
  {
   "cell_type": "markdown",
   "id": "448acbaa",
   "metadata": {},
   "source": [
    "Split the filtered data into 80% train, 10% validation, and 10% test.\n",
    "You will only need the title and genre columns."
   ]
  },
  {
   "cell_type": "code",
   "execution_count": 7,
   "id": "ec1fca47",
   "metadata": {},
   "outputs": [],
   "source": [
    "titles = csv.loc[:, (csv.columns == 'title')]\n",
    "genres = csv.loc[:, (csv.columns == 'genre')]\n",
    "\n",
    "#80% train, 10% validation, and 10% test\n",
    "\n",
    "genres_train, genres_test, titles_train, titles_test = sklearn.model_selection.train_test_split(genres, titles, test_size=0.1, shuffle = True, random_state = 0)\n",
    "genres_train, genres_val, titles_train, titles_val = sklearn.model_selection.train_test_split(genres_train, titles_train, test_size=0.111, random_state= 8)"
   ]
  },
  {
   "cell_type": "markdown",
   "id": "304d5332",
   "metadata": {},
   "source": [
    "From your processed data set, display:\n",
    "\n",
    "* the amount of movies in each genre and split\n",
    "* 5 examples of movie titles from each genre and split"
   ]
  },
  {
   "cell_type": "markdown",
   "id": "c91cbf00",
   "metadata": {},
   "source": [
    "##### the amount of movies in each genre and split"
   ]
  },
  {
   "cell_type": "code",
   "execution_count": 8,
   "id": "c5e8adf7",
   "metadata": {},
   "outputs": [
    {
     "name": "stdout",
     "output_type": "stream",
     "text": [
      "\tTraining\n",
      "\n",
      "genre    \n",
      "Horror       750\n",
      "Action       731\n",
      "Fantasy      445\n",
      "Western      424\n",
      "Adventure    386\n",
      "dtype: int64\n",
      "--------------------\n",
      "\n",
      "\tTesting\n",
      "\n",
      "genre    \n",
      "Action       91\n",
      "Horror       79\n",
      "Fantasy      63\n",
      "Western      57\n",
      "Adventure    52\n",
      "dtype: int64\n",
      "--------------------\n",
      "\n",
      "\tValidation\n",
      "\n",
      "genre    \n",
      "Horror       97\n",
      "Action       92\n",
      "Western      57\n",
      "Fantasy      51\n",
      "Adventure    45\n",
      "dtype: int64\n",
      "--------------------\n",
      "\n"
     ]
    }
   ],
   "source": [
    "# values\n",
    "train_val = genres_train.value_counts()\n",
    "test_val = genres_test.value_counts()\n",
    "validation_val = genres_val.value_counts()\n",
    "\n",
    "# training amount\n",
    "print(\"\\tTraining\\n\")\n",
    "print(train_val)\n",
    "print(\"--------------------\\n\")\n",
    "\n",
    "# testing amount\n",
    "print(\"\\tTesting\\n\")\n",
    "print(test_val)\n",
    "print(\"--------------------\\n\")\n",
    "\n",
    "# validation amount\n",
    "print(\"\\tValidation\\n\")\n",
    "print(validation_val)\n",
    "print(\"--------------------\\n\")"
   ]
  },
  {
   "cell_type": "markdown",
   "id": "5f0babef",
   "metadata": {},
   "source": [
    "##### 5 examples of movie titles from each genre and split"
   ]
  },
  {
   "cell_type": "code",
   "execution_count": 9,
   "id": "894667df",
   "metadata": {},
   "outputs": [
    {
     "name": "stdout",
     "output_type": "stream",
     "text": [
      "\tTraining\n",
      "\n",
      "Action\n",
      "                      title\n",
      "8711   critical decision+++\n",
      "3893   the wraith++++++++++\n",
      "12190  tornado!++++++++++++\n",
      "2945   mr. billion+++++++++\n",
      "32310  dog eat dog+++++++++\n",
      "--------------------\n",
      "Horror\n",
      "                      title\n",
      "27677  hold your breath++++\n",
      "34119  boo+++++++++++++++++\n",
      "29896  jessabelle++++++++++\n",
      "19959  deadly blessing+++++\n",
      "14422  the strange door++++\n",
      "--------------------\n",
      "Western\n",
      "                      title\n",
      "25     the appaloosa+++++++\n",
      "4928   apache++++++++++++++\n",
      "5364   joe dakota++++++++++\n",
      "7064   cimarron++++++++++++\n",
      "20387  santa fe trail++++++\n",
      "--------------------\n",
      "Adventure\n",
      "                      title\n",
      "2806   medicine man++++++++\n",
      "20131  yankee pasha++++++++\n",
      "1206   tip on a dead jockey\n",
      "36910  call of the wild++++\n",
      "14833  christy: the movie++\n",
      "--------------------\n",
      "Fantasy\n",
      "                      title\n",
      "26031  the aurora encounter\n",
      "19377  ultraviolet+++++++++\n",
      "12185  the terminal man++++\n",
      "10659  alien resurrection++\n",
      "32013  crystal skulls++++++\n",
      "--------------------\n",
      "\tTesting\n",
      "\n",
      "Action\n",
      "                      title\n",
      "376    lethal weapon 2+++++\n",
      "24002  extreme days++++++++\n",
      "39348  lost city of d++++++\n",
      "25629  turbulent skies+++++\n",
      "9247   switchblade sisters+\n",
      "--------------------\n",
      "Horror\n",
      "                      title\n",
      "26032  the prowler+++++++++\n",
      "1695   the exorcist iii++++\n",
      "36103  pet sematary++++++++\n",
      "1863   the fog+++++++++++++\n",
      "23379  ice spiders+++++++++\n",
      "--------------------\n",
      "Western\n",
      "                      title\n",
      "9683   geronimo++++++++++++\n",
      "9256   gunman's walk+++++++\n",
      "2102   the savage++++++++++\n",
      "14057  two flags west++++++\n",
      "1114   the comancheros+++++\n",
      "--------------------\n",
      "Adventure\n",
      "                      title\n",
      "4748   lassie, come home!++\n",
      "14087  attila++++++++++++++\n",
      "5204   losin' it+++++++++++\n",
      "17427  the black watch+++++\n",
      "5372   the white buffalo+++\n",
      "--------------------\n",
      "Fantasy\n",
      "                      title\n",
      "20817  next++++++++++++++++\n",
      "8472   my science project++\n",
      "28850  sharknado+++++++++++\n",
      "39415  flight world war ii+\n",
      "18065  the island++++++++++\n",
      "--------------------\n",
      "\tValidation\n",
      "\n",
      "Action\n",
      "                      title\n",
      "35345  gemini man++++++++++\n",
      "23357  the net 2.0+++++++++\n",
      "13217  the killer elite++++\n",
      "38374  honest thief++++++++\n",
      "16267  derailed++++++++++++\n",
      "--------------------\n",
      "Horror\n",
      "                      title\n",
      "18761  silent warnings+++++\n",
      "22088  the unborn++++++++++\n",
      "17795  blood feast+++++++++\n",
      "20195  count yorga, vampire\n",
      "18245  evil eyes+++++++++++\n",
      "--------------------\n",
      "Western\n",
      "                      title\n",
      "19302  the restless breed++\n",
      "18954  the desperadoes+++++\n",
      "12912  they rode west++++++\n",
      "9303   hour of the gun+++++\n",
      "23922  love comes softly ++\n",
      "--------------------\n",
      "Adventure\n",
      "                      title\n",
      "14119  the scorpion king+++\n",
      "31689  smosh: the movie++++\n",
      "19665  the gaucho++++++++++\n",
      "9102   white water rebels++\n",
      "7088   pirates of tortuga++\n",
      "--------------------\n",
      "Fantasy\n",
      "                      title\n",
      "1810   the space children++\n",
      "11698  phase iv++++++++++++\n",
      "15148  solaris+++++++++++++\n",
      "3971   robocop+++++++++++++\n",
      "30599  jurassic world++++++\n",
      "--------------------\n"
     ]
    }
   ],
   "source": [
    "# values\n",
    "unique_list = genres_train['genre'].unique().tolist()\n",
    "\n",
    "# training examples\n",
    "print(\"\\tTraining\\n\")\n",
    "for x in unique_list:\n",
    "    print(str(x))\n",
    "    print(titles_train.loc[genres_train['genre'] == str(x)].head())\n",
    "    print(\"--------------------\")\n",
    "    \n",
    "# training examples\n",
    "print(\"\\tTesting\\n\")\n",
    "for x in unique_list:\n",
    "    print(str(x))\n",
    "    print(titles_test.loc[genres_test['genre'] == str(x)].head())\n",
    "    print(\"--------------------\")\n",
    "    \n",
    "# training examples\n",
    "print(\"\\tValidation\\n\")\n",
    "for x in unique_list:\n",
    "    print(str(x))\n",
    "    print(titles_val.loc[genres_val['genre'] == str(x)].head())\n",
    "    print(\"--------------------\")"
   ]
  },
  {
   "cell_type": "markdown",
   "id": "8c1240be",
   "metadata": {},
   "source": [
    "## Title classification (25%)\n",
    "\n",
    "Your first task is to prove that a neural network can identify the genre of a movie based on its title.\n",
    "\n",
    "You will note that many titles are just a single word or two words long so you need to work at the character level instead of the word level, that is, a token would be a single character, including punctuation marks and spaces.\n",
    "You must also lowercase the titles.\n",
    "Preprocess the data sets, create a neural network, and train it to classify the movie titles into their genre.\n",
    "Plot a graph of the **accuracy** of the model on the train and validation sets after each epoch."
   ]
  },
  {
   "cell_type": "markdown",
   "id": "b188b958",
   "metadata": {},
   "source": [
    "##### First map characters as integers "
   ]
  },
  {
   "cell_type": "code",
   "execution_count": 10,
   "id": "d7522adb",
   "metadata": {},
   "outputs": [
    {
     "name": "stdout",
     "output_type": "stream",
     "text": [
      "{'b': 0, 'o': 1, 'w': 2, 'e': 3, 'r': 4, 'y': 5, ' ': 6, 'a': 7, 't': 8, 'm': 9, 'i': 10, 'd': 11, 'n': 12, 'g': 13, 'h': 14, '+': 15, '.': 16, 'j': 17, 's': 18, 'k': 19, 'p': 20, 'l': 21, 'c': 22, \"'\": 23, '7': 24, 'u': 25, 'f': 26, 'v': 27, '2': 28, ',': 29, '!': 30, '0': 31, 'q': 32, 'z': 33, 'x': 34, '1': 35, '9': 36, '-': 37, ':': 38, '3': 39, 'ñ': 40, 'é': 41, '&': 42, '5': 43, '8': 44, '#': 45, '/': 46, '4': 47, '6': 48, '?': 49, 'á': 50}\n"
     ]
    }
   ],
   "source": [
    "def map_char(map):\n",
    "    for x in titles['title']:\n",
    "        for y in x:\n",
    "            if y not in map:\n",
    "                map[y] = len(map)\n",
    "                \n",
    "    return map\n",
    "\n",
    "map = {}\n",
    "map = map_char(map)\n",
    "print(map)"
   ]
  },
  {
   "cell_type": "markdown",
   "id": "657eb0d1",
   "metadata": {},
   "source": [
    "###### Filter Titles"
   ]
  },
  {
   "cell_type": "code",
   "execution_count": 11,
   "id": "a1e47698",
   "metadata": {},
   "outputs": [],
   "source": [
    "text_lens_training = torch.tensor(\n",
    "    [len(title_) + 1 for title_ in titles_train['title']],\n",
    "    dtype=torch.int64, device=device\n",
    ")\n",
    "\n",
    "titles_train['title'] = titles_train['title'].str.ljust(20, \"+\")\n",
    "titles_val['title'] = titles_val['title'].str.ljust(20, \"+\")\n",
    "titles_test['title'] = titles_test['title'].str.ljust(20, \"+\")"
   ]
  },
  {
   "cell_type": "markdown",
   "id": "0aaf02d3",
   "metadata": {},
   "source": [
    "##### Change titles to tensors"
   ]
  },
  {
   "cell_type": "code",
   "execution_count": 12,
   "id": "08508da5",
   "metadata": {},
   "outputs": [
    {
     "name": "stdout",
     "output_type": "stream",
     "text": [
      "Size of train tensor:  2736\n",
      "Size of test tensor:  342\n",
      "Size of validation tensor:  342\n"
     ]
    }
   ],
   "source": [
    "def title_tensors(data):\n",
    "    results = list()\n",
    "    for x in data['title']:\n",
    "        temp = list()\n",
    "        for y in x:\n",
    "            temp.append(map[y])\n",
    "        results.append(temp)\n",
    "        \n",
    "    return torch.torch.LongTensor(results)\n",
    "\n",
    "tensor_title_train = title_tensors(titles_train)\n",
    "tensor_title_test = title_tensors(titles_test)\n",
    "tensor_title_val = title_tensors(titles_val)\n",
    "\n",
    "print(\"Size of train tensor: \" ,len(tensor_title_train))\n",
    "print(\"Size of test tensor: \" ,len(tensor_title_test))\n",
    "print(\"Size of validation tensor: \" ,len(tensor_title_val))"
   ]
  },
  {
   "cell_type": "markdown",
   "id": "5e2dc514",
   "metadata": {},
   "source": [
    "###### Encode target labels with value between 0 and n_classes-1."
   ]
  },
  {
   "cell_type": "code",
   "execution_count": 13,
   "id": "552e8bad",
   "metadata": {},
   "outputs": [],
   "source": [
    "label_enc = sklearn.preprocessing.LabelEncoder()\n",
    "\n",
    "#Training\n",
    "tensor_genre_train = label_enc.fit_transform(genres_train['genre'])\n",
    "tensor_genre_train = nn.functional.one_hot(torch.LongTensor(tensor_genre_train), num_classes=-1)\n",
    "tensor_genre_train = tensor_genre_train.type(torch.FloatTensor)\n",
    "\n",
    "#Testing\n",
    "tensor_genre_test = label_enc.fit_transform(genres_test['genre'])\n",
    "tensor_genre_test = nn.functional.one_hot(torch.LongTensor(tensor_genre_test), num_classes=-1)\n",
    "\n",
    "#Validation\n",
    "tensor_genre_val = label_enc.fit_transform(genres_val['genre'])\n",
    "tensor_genre_val = nn.functional.one_hot(torch.LongTensor(tensor_genre_val), num_classes=-1)\n",
    "tensor_genre_val = tensor_genre_val.type(torch.FloatTensor)\n"
   ]
  },
  {
   "cell_type": "markdown",
   "id": "6b7672f9",
   "metadata": {},
   "source": [
    "###### Create dataset and dataloader"
   ]
  },
  {
   "cell_type": "code",
   "execution_count": 14,
   "id": "0e64e376",
   "metadata": {},
   "outputs": [
    {
     "name": "stdout",
     "output_type": "stream",
     "text": [
      "Vocabulary size:  51\n",
      "{' ', 'h', '4', '.', '8', 'p', 'v', 'g', \"'\", '&', '?', '#', '0', '5', 'y', 'l', 'o', 'x', 'q', 'á', 'a', 't', '7', 'r', 'k', 'z', 'ñ', 's', '-', ':', 'f', 'u', ',', 'e', '+', 'm', '2', '1', '3', '/', 'c', '6', 'é', '!', '9', 'b', 'w', 'i', 'n', 'd', 'j'}\n"
     ]
    }
   ],
   "source": [
    "def set_vocab(characters):\n",
    "\n",
    "    for x in titles['title']:\n",
    "        characters |= set(x)\n",
    "        \n",
    "    print(\"Vocabulary size: \", len(characters))\n",
    "    print(characters)\n",
    "    \n",
    "    return  len(characters)\n",
    "    \n",
    "characters = set()\n",
    "chars = set_vocab(characters)\n",
    "\n",
    "#Tensor dataset\n",
    "train_dataset = TensorDataset(tensor_title_train, tensor_genre_train)\n",
    "val_dataset = TensorDataset(tensor_title_val, tensor_genre_val)\n",
    "\n",
    "#Dataloaders\n",
    "train_dataload = DataLoader(train_dataset, batch_size=64, shuffle=True)\n",
    "val_dataload = DataLoader(val_dataset, batch_size=64)"
   ]
  },
  {
   "cell_type": "markdown",
   "id": "ff6fee4f",
   "metadata": {},
   "source": [
    "###### Create Model"
   ]
  },
  {
   "cell_type": "code",
   "execution_count": 21,
   "id": "06e88cac",
   "metadata": {},
   "outputs": [],
   "source": [
    "class TitleClassification(nn.Module):\n",
    "    def __init__(self, num_classes, size_vocab, embedding_dim, filter_size, filters_num):\n",
    "        super(TitleClassification, self).__init__()\n",
    "        self.embedding = nn.Embedding(size_vocab, embedding_dim)\n",
    "        self.conv = nn.Conv1d(embedding_dim, filters_num, filter_size, padding=1)\n",
    "        self.fc = nn.Linear(4096, num_classes)\n",
    "        self.rRelu = nn.RReLU()\n",
    "        self.maxpool = nn.MaxPool1d(kernel_size=filter_size, stride=1)\n",
    "\n",
    "    def forward(self, X):\n",
    "        x = self.embedding(X)\n",
    "        x = self.conv(x)\n",
    "        x = self.rRelu(x)\n",
    "        x = self.maxpool(x)\n",
    "        x = x.view(x.shape[0], -1)\n",
    "        x = self.fc(x)\n",
    "\n",
    "        return x"
   ]
  },
  {
   "cell_type": "markdown",
   "id": "74bdad16",
   "metadata": {},
   "source": [
    "##### Train Model"
   ]
  },
  {
   "cell_type": "code",
   "execution_count": 22,
   "id": "e3ceb5ee",
   "metadata": {},
   "outputs": [
    {
     "name": "stdout",
     "output_type": "stream",
     "text": [
      "Steps: 0 \tAverage validation accuracy:  0.5614035087719298\n",
      "Steps: 50 \tAverage validation accuracy:  36.05263157894738\n",
      "Steps: 100 \tAverage validation accuracy:  35.27485380116959\n",
      "Steps: 150 \tAverage validation accuracy:  35.74853801169589\n",
      "Steps: 200 \tAverage validation accuracy:  35.50292397660819\n",
      "Steps: 250 \tAverage validation accuracy:  36.362573099415194\n"
     ]
    },
    {
     "data": {
      "text/plain": [
       "<All keys matched successfully>"
      ]
     },
     "execution_count": 22,
     "metadata": {},
     "output_type": "execute_result"
    }
   ],
   "source": [
    "# revert one-hot encoding back to original values (indices)\n",
    "def revert_one_hot(enc):\n",
    "    result = list()\n",
    "    for x in enc.tolist():\n",
    "        result.append(x.index(max(x)))\n",
    "    return torch.Tensor(result)\n",
    "\n",
    "model_title_classification = TitleClassification(num_classes=5, size_vocab=chars, embedding_dim=20, filter_size=10, filters_num=1024)\n",
    "\n",
    "# Define a loss function and an optimizer\n",
    "criterion = nn.CrossEntropyLoss()\n",
    "optimizer = torch.optim.Adam(model_title_classification.parameters(),)\n",
    "\n",
    "# Training loop\n",
    "num_steps = 300\n",
    "total_acc = 0\n",
    "\n",
    "# Validation accuracy\n",
    "val_acc = 0\n",
    "\n",
    "train_accuracy_list = []\n",
    "value_accuracy_list = []\n",
    "\n",
    "for step in range(num_steps):\n",
    "    for inputs, labels in train_dataload:\n",
    "        batch_size = inputs.shape[0]\n",
    "        time_steps = inputs.shape[1]\n",
    "        \n",
    "        # creating a mask to include the padding in the loss.backward() gradients\n",
    "        mask = torch.zeros((batch_size, time_steps), dtype=torch.bool)\n",
    "        for x in range(batch_size):\n",
    "            for y in range(time_steps):\n",
    "                if y >= text_lens_training [x]:\n",
    "                    mask[x, y] = 1\n",
    "        \n",
    "        outputs = model_title_classification(inputs)\n",
    "        loss = criterion(outputs, labels)\n",
    "        loss = torch.masked_fill(loss, mask, 0.0)\n",
    "        loss_ = loss.sum()/text_lens_training.sum()\n",
    "        \n",
    "        optimizer.zero_grad()\n",
    "        loss_.backward()\n",
    "        optimizer.step()\n",
    "        \n",
    "        correct = 0\n",
    "        total = 0\n",
    "        \n",
    "        with torch.no_grad():\n",
    "            _, predicted = torch.max(outputs.data, 1)\n",
    "            total += labels.size(0)\n",
    "            labels = revert_one_hot(labels)  \n",
    "            correct += (predicted == labels).sum().item()\n",
    "    train_acc = 100 * correct / total\n",
    "    train_accuracy_list.append(train_acc)\n",
    "            \n",
    "    # Evaluation on validation set\n",
    "    correct = 0\n",
    "    total = 0\n",
    "    \n",
    "    with torch.no_grad():\n",
    "        for inputs, labels in val_dataload:\n",
    "            outputs = model_title_classification(inputs)\n",
    "            _, predicted = torch.max(outputs.data, 1)\n",
    "            total += labels.size(0)\n",
    "            labels = revert_one_hot(labels)            \n",
    "            correct += (predicted == labels).sum().item()\n",
    "            \n",
    "    val_acc = 100 * correct / total\n",
    "    value_accuracy_list.append(val_acc)\n",
    "    total_acc+= val_acc\n",
    "    \n",
    "    if step%50 == 0:\n",
    "        avg_acc = total_acc/ 50\n",
    "        total_acc = 0\n",
    "        print(\"Steps:\",step, \"\\tAverage validation accuracy: \", avg_acc)\n",
    "\n",
    "    # Save best model\n",
    "    if avg_acc > val_acc:\n",
    "        val_acc = avg_acc\n",
    "        torch.save(model_title_classification.state_dict(), 'TitleClassModel')\n",
    "\n",
    "#Save model\n",
    "model_title_classification.load_state_dict(torch.load('TitleClassModel'))"
   ]
  },
  {
   "cell_type": "markdown",
   "id": "f4d71513",
   "metadata": {},
   "source": [
    "##### Graph of Training vs Validation Accuracy"
   ]
  },
  {
   "cell_type": "code",
   "execution_count": 23,
   "id": "0cb93af4",
   "metadata": {},
   "outputs": [
    {
     "data": {
      "image/png": "[encoded data removed]",
      "text/plain": [
       "<Figure size 640x480 with 1 Axes>"
      ]
     },
     "metadata": {},
     "output_type": "display_data"
    }
   ],
   "source": [
    "plt.plot(train_accuracy_list)\n",
    "plt.plot(value_accuracy_list)\n",
    "\n",
    "plt.legend(['validation', 'training'])\n",
    "plt.title('Training vs Validation Accuracy')\n",
    "plt.xlabel('Epochs')\n",
    "plt.ylabel('Accuracy')\n",
    "\n",
    "plt.show()\n",
    "    "
   ]
  },
  {
   "cell_type": "markdown",
   "id": "f53265d7",
   "metadata": {},
   "source": [
    "Measure the F1 score performance of the model when applied on the test set.\n",
    "Also plot a confusion matrix showing how often each genre is mistaken as another genre."
   ]
  },
  {
   "cell_type": "code",
   "execution_count": 25,
   "id": "e3e9f69c",
   "metadata": {},
   "outputs": [
    {
     "name": "stdout",
     "output_type": "stream",
     "text": [
      "F1 score performance:  0.3625730994152046\n"
     ]
    },
    {
     "data": {
      "image/png": "[encoded data removed]",
      "text/plain": [
       "<Figure size 640x480 with 2 Axes>"
      ]
     },
     "metadata": {},
     "output_type": "display_data"
    }
   ],
   "source": [
    "def model_eval(labels, pred):\n",
    "    print(\"F1 score performance: \", f1_score(y_true=labels, y_pred=pred, average=\"micro\"))\n",
    "    labels = np.array(labels)\n",
    "    pred = np.array(pred)\n",
    "    \n",
    "    confusion = np.zeros((5,5))\n",
    "    \n",
    "    for x in range(len(labels)):\n",
    "        confusion[labels[x], pred[x]] += 1\n",
    "        \n",
    "    final_confusion = confusion / confusion.sum(axis=1)[:, np.newaxis]\n",
    "    \n",
    "    plt.imshow(final_confusion, cmap='Blues', interpolation='nearest')\n",
    "    plt.title(\"Confusion Matrix\")\n",
    "    plt.xlabel('Predicted Genre')\n",
    "    plt.ylabel('True Genre')\n",
    "    plt.colorbar()\n",
    "    plt.show()\n",
    "    \n",
    "def remove_one_hot_list(enc):\n",
    "    results = list()\n",
    "    for x in enc.tolist():\n",
    "        results.append(x.index(max(x)))\n",
    "        \n",
    "    return results\n",
    "\n",
    "model = TitleClassification(num_classes=5, size_vocab=chars, embedding_dim=20, filter_size=10, filters_num=1024)\n",
    "model.load_state_dict(torch.load('TitleClassModel'))\n",
    "\n",
    "prediction_values = []\n",
    "for x in model(tensor_title_test):\n",
    "    prediction_values.append(torch.argmax(x).item())\n",
    "    \n",
    "model_eval(remove_one_hot_list(tensor_genre_test), prediction_values)"
   ]
  },
  {
   "cell_type": "markdown",
   "id": "885c811f",
   "metadata": {},
   "source": [
    "## Title generation (25%)\n",
    "\n",
    "Now that you've proven that titles and genre are related, make a model that can generate a title given a genre.\n",
    "\n",
    "Again, you need to generate tokens at the character level instead of the word level and the titles must be lowercased.\n",
    "Preprocess the data sets, create a neural network, and train it to generate the movie titles given their genre.\n",
    "Plot a graph of the **perplexity** of the model on the train and validation sets after each epoch."
   ]
  },
  {
   "cell_type": "markdown",
   "id": "e083c204",
   "metadata": {},
   "source": [
    "##### Convert movie titles to list"
   ]
  },
  {
   "cell_type": "code",
   "execution_count": 26,
   "id": "89209908",
   "metadata": {},
   "outputs": [],
   "source": [
    "genres = csv.loc[:, (csv.columns == 'genre')]['genre'].values.tolist()\n",
    "titles = csv.loc[:, (csv.columns == 'title')]['title'].values.tolist()\n",
    "\n",
    "genres_train, genres_test, titles_train, titles_test = sklearn.model_selection.train_test_split(genres, titles, test_size=0.1, shuffle = True, random_state = 0)\n",
    "genres_train, genres_val, titles_train, titles_val = sklearn.model_selection.train_test_split(genres_train, titles_train, test_size=0.111, random_state= 8)\n",
    "\n",
    "def titles_to_list(titles):\n",
    "    temp = []\n",
    "    for x in titles:\n",
    "        temp.append([y for y in x])\n",
    "    #print(len(titles))\n",
    "    return temp\n",
    "\n",
    "titles_train= titles_to_list(titles_train)\n",
    "titles_val = titles_to_list(titles_val)\n",
    "titles_test = titles_to_list(titles_test)"
   ]
  },
  {
   "cell_type": "markdown",
   "id": "65976d96",
   "metadata": {},
   "source": [
    "###### Preprocessing"
   ]
  },
  {
   "cell_type": "code",
   "execution_count": 27,
   "id": "505c656f",
   "metadata": {},
   "outputs": [
    {
     "name": "stdout",
     "output_type": "stream",
     "text": [
      "vocab: ['+', '=', ' ', '!', '#', '&', \"'\", '+', ',', '-', '.', '/', '0', '1', '2', '3', '4', '5', '6', '7', '8', '9', ':', '?', 'a', 'b', 'c', 'd', 'e', 'f', 'g', 'h', 'i', 'j', 'k', 'l', 'm', 'n', 'o', 'p', 'q', 'r', 's', 't', 'u', 'v', 'w', 'x', 'y', 'z', 'á', 'é', 'ñ']\n"
     ]
    }
   ],
   "source": [
    "label_enc = sklearn.preprocessing.LabelEncoder()\n",
    "\n",
    "genres_training = label_enc.fit_transform(genres_train)\n",
    "genres_training = nn.functional.one_hot(torch.LongTensor(genres_training), num_classes=-1)\n",
    "\n",
    "text_lens_train = torch.tensor(\n",
    "    [len(title_) + 1 for title_ in titles_train], \n",
    "    dtype=torch.int64, device=device\n",
    ")\n",
    "\n",
    "max_len = 21\n",
    "\n",
    "vocab = ['+','='] + sorted({tok for title_ in titles_train for tok in title_})\n",
    "print('vocab:', vocab)\n",
    "\n",
    "train_x = [['='] + title_ + ['+']*(max_len - len(title_) - 1) for title_ in titles_train]\n",
    "\n",
    "index_train_x = torch.tensor(\n",
    "    [[vocab.index(tok) for tok in title_] for title_ in train_x],\n",
    "    dtype=torch.int64, device=device\n",
    ")\n",
    "\n",
    "train_y = [title_ + ['='] + ['+']*(max_len - len(title_) - 1) for title_ in titles_train]\n",
    "\n",
    "index_train_y = torch.tensor(\n",
    "    [[vocab.index(tok) for tok in title_] for title_ in train_y],\n",
    "    dtype=torch.int64, device=device\n",
    ")\n",
    "\n",
    "#Validation \n",
    "\n",
    "genres_validation = label_enc.fit_transform(genres_val)\n",
    "genres_validation = nn.functional.one_hot(torch.LongTensor(genres_validation), num_classes=-1)\n",
    "\n",
    "text_lens_val = torch.tensor(\n",
    "    [len(title_) + 1 for title_ in titles_val], \n",
    "    dtype=torch.int64, device=device\n",
    ")\n",
    "\n",
    "val_x = [['='] + title_ + ['+']*(max_len - len(title_) - 1) for title_ in titles_val]\n",
    "\n",
    "index_val_x = torch.tensor(\n",
    "    [[vocab.index(tok) for tok in title_] for title_ in val_x],\n",
    "    dtype=torch.int64, device=device\n",
    ")\n",
    "\n",
    "val_y = [title_ + ['='] + ['+']*(max_len - len(title_) - 1) for title_ in titles_val]\n",
    "\n",
    "index_val_y = torch.tensor(\n",
    "    [[vocab.index(tok) for tok in title_] for title_ in val_y],\n",
    "    dtype=torch.int64, device=device\n",
    ")\n",
    "\n",
    "#Testing\n",
    "genres_testing = label_enc.fit_transform(genres_test)\n",
    "genres_testing = nn.functional.one_hot(torch.LongTensor(genres_testing), num_classes=-1)\n",
    "\n",
    "text_lens_test = torch.tensor(\n",
    "    [len(title_) + 1 for title_ in titles_test],\n",
    "    dtype=torch.int64, device=device\n",
    ")\n",
    "\n",
    "test_x = [['='] + title_ + ['+']*(max_len - len(title_) - 1) for title_ in titles_test]\n",
    "\n",
    "index_test_x = torch.tensor(\n",
    "    [[vocab.index(tok) for tok in title_] for title_ in test_x],\n",
    "    dtype=torch.int64, device=device\n",
    ")\n",
    "\n",
    "test_y = [title_ + ['='] + ['+']*(max_len - len(title_) - 1) for title_ in titles_test]\n",
    "\n",
    "index_test_y = torch.tensor(\n",
    "    [[vocab.index(tok) for tok in title_] for title_ in test_y],\n",
    "    dtype=torch.int64, device=device\n",
    ")"
   ]
  },
  {
   "cell_type": "markdown",
   "id": "9117c327",
   "metadata": {},
   "source": [
    "##### Create Model"
   ]
  },
  {
   "cell_type": "code",
   "execution_count": 28,
   "id": "75cf72f8",
   "metadata": {},
   "outputs": [],
   "source": [
    "class TitleGeneration(nn.Module):\n",
    "\n",
    "    def __init__(self, cond_size, vocab_size, embedding_size, hidden_size):\n",
    "        super().__init__()\n",
    "        self.embedding_layer = nn.Embedding(vocab_size, embedding_size)\n",
    "        self.rnn_s0 = nn.Parameter(torch.zeros((hidden_size,), dtype=torch.float32))\n",
    "        self.rnn_c0 = nn.Parameter(torch.zeros((hidden_size,), dtype=torch.float32))\n",
    "        self.rnn_cell = nn.LSTMCell(embedding_size, hidden_size)\n",
    "        self.output_layer = nn.Linear(cond_size + hidden_size, vocab_size) # Output layer must include the conditioning vector in its input.\n",
    "        \n",
    "    def forward(self, cond, x):\n",
    "        batch_size = x.shape[0]\n",
    "        time_steps = x.shape[1]\n",
    "\n",
    "        embedded = self.embedding_layer(x)\n",
    "        \n",
    "        state = self.rnn_s0.unsqueeze(0).tile((batch_size, 1))\n",
    "        c = self.rnn_s0.unsqueeze(0).tile((batch_size, 1))\n",
    "        interm_states = []\n",
    "        for t in range(time_steps):\n",
    "            (state, c) = self.rnn_cell(embedded[:, t, :], (state, c))\n",
    "            interm_states.append(state)\n",
    "            \n",
    "        interm_states = torch.stack(interm_states, dim=1)\n",
    "        \n",
    "        cond_3d = cond.unsqueeze(1).tile((1, time_steps, 1)) # Replicate the same conditioning vector for every word.\n",
    "        interm_states = torch.cat((cond_3d, interm_states), dim=2) # Attach the replicated conditioning vector to the intermediate states.\n",
    "        \n",
    "        return self.output_layer(interm_states)"
   ]
  },
  {
   "cell_type": "markdown",
   "id": "699290a1",
   "metadata": {},
   "source": [
    "##### Train Model "
   ]
  },
  {
   "cell_type": "code",
   "execution_count": 29,
   "id": "f44dc20a",
   "metadata": {},
   "outputs": [
    {
     "name": "stdout",
     "output_type": "stream",
     "text": [
      "step \t error\n",
      "100 \t 2.2899484634399414\n",
      "200 \t 1.9718466997146606\n",
      "300 \t 1.825745701789856\n",
      "400 \t 1.7480148077011108\n",
      "500 \t 1.6980619430541992\n",
      "600 \t 1.6578950881958008\n",
      "700 \t 1.6146727800369263\n",
      "800 \t 1.5803080797195435\n",
      "900 \t 1.5518465042114258\n",
      "1000 \t 1.5198137760162354\n",
      "1100 \t 1.4922481775283813\n",
      "1200 \t 1.4701265096664429\n",
      "1300 \t 1.4517266750335693\n",
      "1400 \t 1.434582233428955\n",
      "1500 \t 1.4197510480880737\n",
      "1600 \t 1.4070054292678833\n",
      "1700 \t 1.3955366611480713\n",
      "1800 \t 1.3850301504135132\n",
      "1900 \t 1.375209927558899\n",
      "2000 \t 1.3662421703338623\n"
     ]
    }
   ],
   "source": [
    "model_title_generation = TitleGeneration(genres_training.shape[1], len(vocab), embedding_size=64, hidden_size=20)\n",
    "model_title_generation.to(device)\n",
    "\n",
    "optimiser = torch.optim.Adam(model_title_generation.parameters())\n",
    "\n",
    "# Initialise validation variables for loss, perplexity\n",
    "train_errors = []\n",
    "perp = []\n",
    "\n",
    "train_errors_val = []\n",
    "perp_val = []\n",
    "\n",
    "# Initialise early stopping counter\n",
    "early_stopping_counter = 0\n",
    "\n",
    "print('step', '\\t','error')\n",
    "for step in range(1, 2000+1):\n",
    "    batch_size = index_train_x.shape[0]\n",
    "    time_steps = index_train_x.shape[1]\n",
    "    \n",
    "    # creating a mask to include the padding in the loss.backward() gradients\n",
    "    mask = torch.zeros((batch_size, time_steps), dtype=torch.bool)\n",
    "    for x in range(batch_size):\n",
    "        for y in range(time_steps):\n",
    "            if y >= text_lens_train[x]:\n",
    "                mask[x, y] = 1\n",
    "    \n",
    "    optimiser.zero_grad()\n",
    "    output = model_title_generation(genres_training, index_train_x)\n",
    "    errors = nn.functional.cross_entropy(output.transpose(1, 2), index_train_y, reduction='none')\n",
    "    errors = torch.masked_fill(errors, mask, 0.0)\n",
    "    error = errors.sum()/text_lens_train.sum()\n",
    "    train_errors.append(error.detach().tolist())\n",
    "    perp.append(math.exp(error.detach().tolist()))\n",
    "    error.backward()\n",
    "    optimiser.step()\n",
    "    \n",
    "    with torch.no_grad():\n",
    "        batch_size = index_val_x.shape[0]\n",
    "        time_steps = index_val_x.shape[1]\n",
    "        mask_val = torch.zeros((batch_size, time_steps), dtype=torch.bool)\n",
    "        for x in range(batch_size):\n",
    "            for y in range(time_steps):\n",
    "                if y >= text_lens_val[x]:\n",
    "                    mask_val[x, y] = 1\n",
    "        output_values = model_title_generation(genres_validation, index_val_x)\n",
    "        errors_values = nn.functional.cross_entropy(output_values.transpose(1, 2), index_val_y, reduction='none')\n",
    "        errors_values = torch.masked_fill(errors_values, mask_val, 0.0)\n",
    "        errors_values = errors_values.sum()/text_lens_val.sum()\n",
    "        train_errors_val.append(errors_values.detach().tolist())\n",
    "        perp_val.append(math.exp(errors_values.detach().tolist()))\n",
    "    \n",
    "    if step%100 == 0:\n",
    "        print(step ,\"\\t\", train_errors[-1])\n",
    "        \n",
    "torch.save(model_title_generation.state_dict(), 'TitleGenerationModel')"
   ]
  },
  {
   "cell_type": "markdown",
   "id": "fd88ffd1",
   "metadata": {},
   "source": [
    "##### Plot Graphs"
   ]
  },
  {
   "cell_type": "code",
   "execution_count": 30,
   "id": "2e5d9b4a",
   "metadata": {},
   "outputs": [
    {
     "data": {
      "image/png": "[encoded data removed]",
      "text/plain": [
       "<Figure size 640x480 with 1 Axes>"
      ]
     },
     "metadata": {},
     "output_type": "display_data"
    },
    {
     "data": {
      "image/png": "[encoded data removed]",
      "text/plain": [
       "<Figure size 640x480 with 1 Axes>"
      ]
     },
     "metadata": {},
     "output_type": "display_data"
    }
   ],
   "source": [
    "#Perplexity graph\n",
    "plt.plot(perp)\n",
    "plt.plot(perp_val)\n",
    "plt.xlabel('Epochs')\n",
    "plt.ylabel('Perplexity')\n",
    "plt.title('Training vs Validation Perplexity')\n",
    "\n",
    "plt.legend(['training', 'validation'])\n",
    "plt.show()\n",
    "\n",
    "#Error Graph\n",
    "plt.plot(train_errors)\n",
    "plt.plot(train_errors_val)\n",
    "plt.xlabel('Epochs')\n",
    "plt.ylabel('Loss')\n",
    "plt.title('Training vs Validation Loss')\n",
    "\n",
    "plt.legend(['training', 'validation'])\n",
    "plt.show()"
   ]
  },
  {
   "cell_type": "markdown",
   "id": "da86299f",
   "metadata": {},
   "source": [
    "Generate 3 titles for every genre.\n",
    "Make sure that the titles are not all the same."
   ]
  },
  {
   "cell_type": "code",
   "execution_count": 51,
   "id": "f2aa6465",
   "metadata": {},
   "outputs": [
    {
     "name": "stdout",
     "output_type": "stream",
     "text": [
      "\u001b[1mAction\u001b[0m\n",
      "crounte.2id\n",
      "rible oboutsy urru\n",
      "27quloketwemes thre\n",
      "\n",
      "\n",
      "\u001b[1mHorror\u001b[0m\n",
      "endmadsionwersto\n",
      "pat!\n",
      "blandsmanty st\n",
      "\n",
      "\n",
      "\u001b[1mFantasy\u001b[0m\n",
      "tarth nilashterd7\n",
      "mark mand lidert\n",
      "the mandy cimdy\n",
      "\n",
      "\n",
      "\u001b[1mWestern\u001b[0m\n",
      "the worss ghalde\n",
      "ive gamsson friy swi\n",
      "fages chamionass\n",
      "\n",
      "\n",
      "\u001b[1mAdventure\u001b[0m\n",
      "hill crork the rust'\n",
      "the roun to negrcen\n",
      "abding tomghtul ques\n"
     ]
    },
    {
     "data": {
      "text/plain": [
       "'abding tomghtul ques'"
      ]
     },
     "execution_count": 51,
     "metadata": {},
     "output_type": "execute_result"
    }
   ],
   "source": [
    "Action =[1, 0, 0, 0, 0]\n",
    "Adventure = [0, 1, 0, 0, 0]\n",
    "Fantasy = [0, 0, 1, 0, 0]\n",
    "Horror = [0, 0, 0, 1, 0]\n",
    "Western = [0, 0, 0, 0, 1]\n",
    "\n",
    "\n",
    "def getTitle(genresList):\n",
    "     \n",
    "    for genre in genresList:\n",
    "        genre = torch.tensor([genre], dtype=torch.float32)\n",
    "        prefix_indexes = [vocab.index('=')]\n",
    "        max_len = 20\n",
    "        for _ in range(max_len):\n",
    "            prefix_tensor = torch.tensor([prefix_indexes], dtype=torch.int64)\n",
    "            outputs = torch.softmax(model_title_generation(genre, prefix_tensor), dim=2)            \n",
    "            letter_probs = outputs[0, -1, :].tolist()\n",
    "            next_letter_index = random.choices(range(len(vocab)), letter_probs)[0]\n",
    "            if next_letter_index == vocab.index('='):\n",
    "                break\n",
    "            if next_letter_index == vocab.index('+'):\n",
    "                continue\n",
    "            prefix_indexes.append(next_letter_index)\n",
    "        genre_ = [vocab[index] for index in prefix_indexes[1:]]\n",
    "        ans=\"\".join([str(i) for a,i in enumerate(genre_)])\n",
    "        print(ans)\n",
    "    return ans\n",
    "\n",
    "print('\\033[1m' + 'Action'+ '\\033[0m')\n",
    "getTitle([Action, Action, Action])\n",
    "print('\\n')\n",
    "\n",
    "print('\\033[1m' + 'Horror'+ '\\033[0m')\n",
    "getTitle([Horror, Horror, Horror])\n",
    "print('\\n')\n",
    "\n",
    "print('\\033[1m' + 'Fantasy'+ '\\033[0m')\n",
    "getTitle([Fantasy, Fantasy, Fantasy])\n",
    "print('\\n')\n",
    "\n",
    "print('\\033[1m' + 'Western'+ '\\033[0m')\n",
    "getTitle([Western, Western, Western])\n",
    "print('\\n')\n",
    "\n",
    "print('\\033[1m' + 'Adventure'+ '\\033[0m' )\n",
    "getTitle([Adventure, Adventure, Adventure])"
   ]
  },
  {
   "cell_type": "markdown",
   "id": "cc97665b",
   "metadata": {},
   "source": [
    "## Language models as classifiers (30%)\n",
    "\n",
    "It occurs to you that the movie title generator can also be used as a classifier by doing the following:\n",
    "\n",
    "* Let title $t$ be the title that you want to classify.\n",
    "* For every genre $g$,\n",
    "    * Use the generator as a language model to get the probability of $t$ (the whole title) using genre $g$.\n",
    "* Pick the genre that makes the language model give the largest probability.\n",
    "\n",
    "The producer is thrilled to not need two separate models and now you have to implement this.\n",
    "**Use the preprocessed test set from the previous task** in order to find the genre that makes the language model give the largest probability.\n",
    "There is no need to plot anything here."
   ]
  },
  {
   "cell_type": "code",
   "execution_count": 52,
   "id": "44ba8fd6",
   "metadata": {},
   "outputs": [],
   "source": [
    "def lm_probs(inputs):\n",
    "\n",
    "    parameters =[[1, 0, 0, 0, 0],\n",
    "                 [0, 1, 0, 0, 0], \n",
    "                 [0, 0, 1, 0, 0],\n",
    "                 [0, 0, 0, 1, 0],\n",
    "                 [0, 0, 0, 0, 1]] \n",
    "    probabilities = []\n",
    "\n",
    "    for x in parameters:\n",
    "        prob_value=1\n",
    "        prefix_indexes = [vocab.index('=')]\n",
    "        x = torch.tensor([x], dtype=torch.float32)\n",
    "        \n",
    "        for y in inputs:\n",
    "            prefix_tensor = torch.tensor([prefix_indexes], dtype=torch.int64)\n",
    "            \n",
    "            result = torch.softmax(model_title_generation(x, prefix_tensor), dim=2)\n",
    "            prob_letter = result[0, -1, :].tolist()\n",
    "            \n",
    "            temp = vocab.index(y)\n",
    "            \n",
    "            prefix_indexes.append(temp)\n",
    "            prob_value = prob_value * prob_letter[temp]\n",
    "            \n",
    "        probabilities.append(prob_value)\n",
    "    \n",
    "    return probabilities.index(max(probabilities))\n"
   ]
  },
  {
   "cell_type": "markdown",
   "id": "3841496d",
   "metadata": {},
   "source": [
    "Just like in the classification task, measure the F1 score and plot the confusion matrix of this new classifier."
   ]
  },
  {
   "cell_type": "code",
   "execution_count": 53,
   "id": "148060ad",
   "metadata": {},
   "outputs": [
    {
     "name": "stdout",
     "output_type": "stream",
     "text": [
      "F1 score performance:  0.2543859649122807\n"
     ]
    },
    {
     "data": {
      "image/png": "[encoded data removed]",
      "text/plain": [
       "<Figure size 640x480 with 2 Axes>"
      ]
     },
     "metadata": {},
     "output_type": "display_data"
    }
   ],
   "source": [
    "def classification_results():\n",
    "    \n",
    "    temp=[]\n",
    "    \n",
    "    for x,y in enumerate(titles_test):\n",
    "        temp.append(lm_probs(y))\n",
    "        \n",
    "    model_eval(remove_one_hot_list(tensor_genre_test), temp)\n",
    "    \n",
    "classification_results()"
   ]
  },
  {
   "cell_type": "markdown",
   "id": "b6399514",
   "metadata": {},
   "source": [
    "Write a paragraph or psuedo code to describe what your code above does."
   ]
  },
  {
   "cell_type": "markdown",
   "id": "7411b496",
   "metadata": {},
   "source": [
    "In the above code titles, are generated by randomly choosing one character at each step, which are already given a weight value from the title generation model. Beforehand, each letter in the vocab list is given 5 different weight values based on the relation between the letter and the genre. The method starts by looping through each character of the title name provided and getting the weight values that were produced by the title generation model. Next the values of all characters in the given title are multiplied and the resulting value is the probability of the sequence of characters being generated in the specified genre. Finally, the model measures itself by predicting the title values and genres using the above steps and compare these results to the true genres which are pulled directly from the csv file."
   ]
  },
  {
   "cell_type": "markdown",
   "id": "0f5888e6",
   "metadata": {},
   "source": [
    "## Conclusion (10%)\n",
    "\n",
    "The producer's funders are asking for a report about this new technology they invested in.\n",
    "In 300 words, write your interpretation of the results together with what you think could make the model perform better."
   ]
  },
  {
   "cell_type": "markdown",
   "id": "cb2f2865",
   "metadata": {},
   "source": [
    "###### Task 2"
   ]
  },
  {
   "cell_type": "markdown",
   "id": "1b4e0935",
   "metadata": {},
   "source": [
    "The title classification model performs well, with an average accuracy of roughly 35% and an F1 score of 0.35. Furthermore, when examing the graph the training line fluctuates less at the end of training. However, by including extra data from the CSV file, the results can be improved even further. The dataset was examined and it was discovered that countries such as New Zealand and the United Kingdom, which also use the English language, were not included. Incorporating data from these countries would aid in lowering estimation variance, resulting in more accurate predictions. The disadvantage of this strategy is that it would take more training time to obtain the desired results."
   ]
  },
  {
   "cell_type": "markdown",
   "id": "a2766b7e",
   "metadata": {},
   "source": [
    "##### Task 3"
   ]
  },
  {
   "cell_type": "markdown",
   "id": "dd246498",
   "metadata": {},
   "source": [
    "The results produced by the title generation model are adequate, with an average perplexity of around 4 for both the training and validation dataset and a loss value of around 1.5. However, on further inspection, it was noted that many of the generated titles produced by the model were not coherent and lacked structure. On the other hand, some words created by the model made were coherent appropriate for the specified genre, such as the word ‘blood’ in horror and ‘state’ in western. To improve this model, as mentioned before a larger dataset would have tremendously helped the model as more features could be extracted. Finally, I believe that instead of working at a character level the model would have achieved better results by working at a word level."
   ]
  },
  {
   "cell_type": "markdown",
   "id": "1b18a6c5",
   "metadata": {},
   "source": [
    "##### Task 4"
   ]
  },
  {
   "cell_type": "markdown",
   "id": "63425e95",
   "metadata": {},
   "source": [
    "The language model performs below expectations, with an average F1-score of 0.25. To improve this score, changes must be made to the title generation model, on which the language model is based. Increasing the embedding size, number of hidden layers, testing with different optimizer functions, and altering the model's learning rate have all been demonstrated to improve performance. It is crucial to remember, however, that increasing these values or modifying these algorithms can result in overfitting."
   ]
  },
  {
   "cell_type": "code",
   "execution_count": null,
   "id": "5af0d759",
   "metadata": {},
   "outputs": [],
   "source": []
  }
 ],
 "metadata": {
  "kernelspec": {
   "display_name": "Python 3 (ipykernel)",
   "language": "python",
   "name": "python3"
  },
  "language_info": {
   "codemirror_mode": {
    "name": "ipython",
    "version": 3
   },
   "file_extension": ".py",
   "mimetype": "text/x-python",
   "name": "python",
   "nbconvert_exporter": "python",
   "pygments_lexer": "ipython3",
   "version": "3.9.16"
  }
 },
 "nbformat": 4,
 "nbformat_minor": 5
}
